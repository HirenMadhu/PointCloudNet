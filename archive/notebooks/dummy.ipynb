{
 "cells": [
  {
   "cell_type": "code",
   "execution_count": 2,
   "metadata": {},
   "outputs": [],
   "source": [
    "import torch\n",
    "import torch_geometric\n",
    "from torch_geometric.data import Data"
   ]
  },
  {
   "cell_type": "code",
   "execution_count": 7,
   "metadata": {},
   "outputs": [],
   "source": [
    "edge_index1 = torch.Tensor([[0,1,2,3,4,5],[1,2,3,4,5,0]]).long()\n",
    "edge_index2 = torch.Tensor([[0,1,2,3,4,5],[1,2,0,4,5,3]]).long()\n",
    "g1 = Data(edge_index=edge_index1)\n",
    "g2 = Data(edge_index=edge_index2)"
   ]
  },
  {
   "cell_type": "code",
   "execution_count": 17,
   "metadata": {},
   "outputs": [],
   "source": [
    "L1 = torch.zeros((6,6))\n",
    "L1_ = torch_geometric.utils.get_laplacian(g1.edge_index)\n",
    "L1[L1_[0][0],L1_[0][1]] = L1_[1]\n",
    "L1[L1_[0][1],L1_[0][0]] = L1_[1]\n",
    "\n",
    "L2 = torch.zeros((6,6))\n",
    "L2_ = torch_geometric.utils.get_laplacian(g2.edge_index)\n",
    "L2[L2_[0][0],L2_[0][1]] = L2_[1]\n",
    "L2[L2_[0][1],L2_[0][0]] = L2_[1]"
   ]
  },
  {
   "cell_type": "code",
   "execution_count": 19,
   "metadata": {},
   "outputs": [],
   "source": [
    "import scipy"
   ]
  },
  {
   "cell_type": "code",
   "execution_count": 24,
   "metadata": {},
   "outputs": [],
   "source": [
    "H1 = scipy.linalg.expm(-L1.numpy())\n",
    "H2 = scipy.linalg.expm(-L2.numpy())"
   ]
  },
  {
   "cell_type": "code",
   "execution_count": null,
   "metadata": {},
   "outputs": [],
   "source": []
  }
 ],
 "metadata": {
  "kernelspec": {
   "display_name": "pcnn",
   "language": "python",
   "name": "python3"
  },
  "language_info": {
   "codemirror_mode": {
    "name": "ipython",
    "version": 3
   },
   "file_extension": ".py",
   "mimetype": "text/x-python",
   "name": "python",
   "nbconvert_exporter": "python",
   "pygments_lexer": "ipython3",
   "version": "3.9.16"
  },
  "orig_nbformat": 4
 },
 "nbformat": 4,
 "nbformat_minor": 2
}
