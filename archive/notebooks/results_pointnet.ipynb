{
 "cells": [
  {
   "cell_type": "code",
   "execution_count": 1,
   "metadata": {},
   "outputs": [],
   "source": [
    "import pandas as pd\n",
    "from pcnn.utils import get_experiment_config, get_sweep_variables, get_all_results_exp, get_best"
   ]
  },
  {
   "cell_type": "code",
   "execution_count": 2,
   "metadata": {},
   "outputs": [],
   "source": [
    "def extract_results(exp_name,timestamp):\n",
    "    exp_config = get_experiment_config(exp_name,timestamp)\n",
    "    sweep_variables = get_sweep_variables(exp_config)\n",
    "    df = get_all_results_exp(exp_name, timestamp, sweep_variables)\n",
    "    sweep_variables = {k:v for k,v in sweep_variables.items() if k not in [\"data.random_state\"]}\n",
    "    return df, sweep_variables"
   ]
  },
  {
   "cell_type": "code",
   "execution_count": 4,
   "metadata": {},
   "outputs": [
    {
     "name": "stdout",
     "output_type": "stream",
     "text": [
      "No PKL file found for legs_melanoma_knn 2024-01-30_16-32-29 7\n",
      "Config for this run : \n",
      "{'original_work_dir': '${hydra:runtime.cwd}', 'seed': None, 'n_seeds': 10, 'name': 'legs_melanoma_knn', 'trainer': {'wandb_user': 'siddharth-viswanath28', 'early_stopping': 20, 'accelerator': 'cpu', 'max_epochs': 100, 'wandb': False, 'gradient_clip_val': 1.0}, 'dataset_name': 'melanoma', 'data': {'_target_': 'pcnn.data.melanoma.MelanomaData', '_partial_': True, 'n_samples': 100, 'batch_size': 32, 'num_workers': 0, 'random_state': 45, 'pin_memory': False, 'graph_construct': '${graph_construct}', 're_precompute': False, 'reprocess_if_different': True, 'train_size': None, 'scattering_n_pca': '${model.scattering_n_pca}'}, 'model_name': 'legs', 'model': {'_target_': 'pcnn.models.pcnn.PCNN', 'num_layers': 1, 'hidden_dim': None, 'lr': 0.01, 'compute_P': False, 'scattering_n_pca': None, 'layer': {'filter_method': 'legs', 'combine_method': 'identity', 'activation': 'identity', 'cross_channel_conv': 'identity', 'reshaping': 'identity', 'num_filters': '${model.hidden_dim}', 'num_combine': None, 'num_cross_channels': 1, 'trainable_laziness': False, 'trainable_scales': True}, 'learnable_graph': True, 'pooling': {'name': 'moments', 'moments_order': [1, 2, 3, 4]}, 'graph_construct': '${graph_construct}'}, 'graph_construct': {'k': 5, 'graph_type': 'knn', 'compute_laplacian': 'combinatorial', 'compute_scattering_feats': True, 'normalize_scattering_features': False, 'eps': 3, 'K': 20, 'd': 2, 'eps_quantile': 0.5, 'norm_list': [1, 2, 3, 4], 'J': 4}}\n",
      "No PKL file found for legs_melanoma_knn 2024-01-30_16-32-29 3\n",
      "Config for this run : \n",
      "{'original_work_dir': '${hydra:runtime.cwd}', 'seed': None, 'n_seeds': 10, 'name': 'legs_melanoma_knn', 'trainer': {'wandb_user': 'siddharth-viswanath28', 'early_stopping': 20, 'accelerator': 'cpu', 'max_epochs': 100, 'wandb': False, 'gradient_clip_val': 1.0}, 'dataset_name': 'melanoma', 'data': {'_target_': 'pcnn.data.melanoma.MelanomaData', '_partial_': True, 'n_samples': 100, 'batch_size': 32, 'num_workers': 0, 'random_state': 43, 'pin_memory': False, 'graph_construct': '${graph_construct}', 're_precompute': False, 'reprocess_if_different': True, 'train_size': None, 'scattering_n_pca': '${model.scattering_n_pca}'}, 'model_name': 'legs', 'model': {'_target_': 'pcnn.models.pcnn.PCNN', 'num_layers': 1, 'hidden_dim': None, 'lr': 0.01, 'compute_P': False, 'scattering_n_pca': None, 'layer': {'filter_method': 'legs', 'combine_method': 'identity', 'activation': 'identity', 'cross_channel_conv': 'identity', 'reshaping': 'identity', 'num_filters': '${model.hidden_dim}', 'num_combine': None, 'num_cross_channels': 1, 'trainable_laziness': False, 'trainable_scales': True}, 'learnable_graph': True, 'pooling': {'name': 'moments', 'moments_order': [1, 2, 3, 4]}, 'graph_construct': '${graph_construct}'}, 'graph_construct': {'k': 5, 'graph_type': 'knn', 'compute_laplacian': 'combinatorial', 'compute_scattering_feats': True, 'normalize_scattering_features': False, 'eps': 3, 'K': 20, 'd': 2, 'eps_quantile': 0.5, 'norm_list': [1, 2, 3, 4], 'J': 4}}\n",
      "No PKL file found for legs_melanoma_knn 2024-01-30_16-32-29 8\n",
      "Config for this run : \n",
      "{'original_work_dir': '${hydra:runtime.cwd}', 'seed': None, 'n_seeds': 10, 'name': 'legs_melanoma_knn', 'trainer': {'wandb_user': 'siddharth-viswanath28', 'early_stopping': 20, 'accelerator': 'cpu', 'max_epochs': 100, 'wandb': False, 'gradient_clip_val': 1.0}, 'dataset_name': 'melanoma', 'data': {'_target_': 'pcnn.data.melanoma.MelanomaData', '_partial_': True, 'n_samples': 100, 'batch_size': 32, 'num_workers': 0, 'random_state': 46, 'pin_memory': False, 'graph_construct': '${graph_construct}', 're_precompute': False, 'reprocess_if_different': True, 'train_size': None, 'scattering_n_pca': '${model.scattering_n_pca}'}, 'model_name': 'legs', 'model': {'_target_': 'pcnn.models.pcnn.PCNN', 'num_layers': 1, 'hidden_dim': None, 'lr': 0.001, 'compute_P': False, 'scattering_n_pca': None, 'layer': {'filter_method': 'legs', 'combine_method': 'identity', 'activation': 'identity', 'cross_channel_conv': 'identity', 'reshaping': 'identity', 'num_filters': '${model.hidden_dim}', 'num_combine': None, 'num_cross_channels': 1, 'trainable_laziness': False, 'trainable_scales': True}, 'learnable_graph': True, 'pooling': {'name': 'moments', 'moments_order': [1, 2, 3, 4]}, 'graph_construct': '${graph_construct}'}, 'graph_construct': {'k': 5, 'graph_type': 'knn', 'compute_laplacian': 'combinatorial', 'compute_scattering_feats': True, 'normalize_scattering_features': False, 'eps': 3, 'K': 20, 'd': 2, 'eps_quantile': 0.5, 'norm_list': [1, 2, 3, 4], 'J': 4}}\n"
     ]
    }
   ],
   "source": [
    "# df_pointnet, pointnet_sweep_variables = extract_results(\"pointnet++_modelnet_dense\",\"2023-09-07_21-23-56\")\n",
    "# df_pointnet, pointnet_sweep_variables = extract_results(\"pointnet++_melanoma_dense\",\"2023-09-11_11-27-41\")\n",
    "# df_pointnet, pointnet_sweep_variables = extract_results(\"point_transformer_melanoma_dense\",\"2023-09-11_11-27-49\")\n",
    "# df_pointnet, pointnet_sweep_variables = extract_results(\"pointnet++_tcells_dense\",\"2023-09-18_12-55-19\")\n",
    "df_pointnet, pointnet_sweep_variables = extract_results(\"legs_melanoma_knn\", \"2024-01-30_16-32-29\")"
   ]
  },
  {
   "cell_type": "code",
   "execution_count": 5,
   "metadata": {},
   "outputs": [],
   "source": [
    "configs = [(df_pointnet, pointnet_sweep_variables,\"PointNet++\", \"Raw\")]\n",
    "\n",
    "df =[]\n",
    "for config in configs:\n",
    "    df_ = get_best(config[0], config[1])\n",
    "    df_[\"Model name\"] = config[2]\n",
    "    df_[\"Graph type\"] = config[3]\n",
    "    df.append(df_)\n",
    "    \n",
    "df = pd.concat(df)\n",
    "df = df[[\"Model name\", \"Graph type\", \"val_acc\",\"val_acc_std\",\"test_acc\", \"test_acc_std\"]]\n",
    "    \n",
    "\n"
   ]
  },
  {
   "cell_type": "code",
   "execution_count": 6,
   "metadata": {},
   "outputs": [
    {
     "name": "stdout",
     "output_type": "stream",
     "text": [
      "\\begin{tabular}{ll}\n",
      "\\toprule\n",
      "Graph type & Raw \\\\\n",
      "Model name &  \\\\\n",
      "\\midrule\n",
      "PointNet++ & 0.71 $\\pm$ 0.09 \\\\\n",
      "\\bottomrule\n",
      "\\end{tabular}\n",
      "\n"
     ]
    }
   ],
   "source": [
    "df[\"Accuracy\"] = df[\"test_acc\"].round(2).astype(str) + \" $\\pm$ \" + df[\"test_acc_std\"].round(2).astype(str)\n",
    "print(df.pivot(index = \"Model name\", columns = \"Graph type\", values = \"Accuracy\").to_latex(index = True, escape = False))"
   ]
  }
 ],
 "metadata": {
  "kernelspec": {
   "display_name": "Python 3",
   "language": "python",
   "name": "python3"
  },
  "language_info": {
   "codemirror_mode": {
    "name": "ipython",
    "version": 3
   },
   "file_extension": ".py",
   "mimetype": "text/x-python",
   "name": "python",
   "nbconvert_exporter": "python",
   "pygments_lexer": "ipython3",
   "version": "3.9.17"
  },
  "orig_nbformat": 4
 },
 "nbformat": 4,
 "nbformat_minor": 2
}
